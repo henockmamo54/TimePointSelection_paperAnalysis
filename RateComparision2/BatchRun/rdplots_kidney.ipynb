{
 "cells": [
  {
   "cell_type": "code",
   "execution_count": 1,
   "metadata": {},
   "outputs": [],
   "source": [
    "import os\n",
    "import math\n",
    "import numpy as np\n",
    "import pandas as pd\n",
    "from tqdm import tqdm\n",
    "import matplotlib.pyplot as plt\n",
    "from mpl_toolkits.mplot3d import Axes3D \n",
    "from scipy.stats import gaussian_kde\n",
    "import seaborn as sns\n",
    "from joblib import Parallel, delayed\n",
    "from IPython.display import clear_output\n",
    "\n",
    "import warnings\n",
    "\n",
    "warnings.filterwarnings('ignore')\n"
   ]
  },
  {
   "cell_type": "markdown",
   "metadata": {},
   "source": [
    "1. RateConst Reader\n"
   ]
  },
  {
   "cell_type": "code",
   "execution_count": 2,
   "metadata": {},
   "outputs": [],
   "source": [
    "def getAllRateInfo(file):   \n",
    "    res=pd.DataFrame()\n",
    "    try:\n",
    "        temp=pd.read_csv(file)\n",
    "        temp=temp.dropna()\n",
    "        temp['Protein']=file.split('\\\\')[-1].replace('.RateConst.csv','')\n",
    "        res=pd.concat([res,temp])\n",
    "    except Exception as exp:\n",
    "        return res\n",
    "    \n",
    "    return res\n",
    "def getAllRate(data_path):\n",
    "    results = Parallel(n_jobs=-1)(delayed(getAllRateInfo)(file) for file in [os.path.join(data_path,x) for x in os.listdir(data_path) if '.RateConst.csv' in x  ]) \n",
    "    all_data=pd.concat(results)\n",
    "    all_data=all_data.reset_index(drop=True)\n",
    "    all_data.columns=[x.strip() for x in all_data.columns]\n",
    "    return all_data"
   ]
  },
  {
   "cell_type": "markdown",
   "metadata": {},
   "source": [
    "2. Quant File Reader"
   ]
  },
  {
   "cell_type": "code",
   "execution_count": 3,
   "metadata": {},
   "outputs": [],
   "source": [
    "def read_n_merge(skip,file):\n",
    "    file_data=pd.read_csv(file,skiprows=skip,index_col=False)\n",
    "    file_data.columns=[x.strip() for x in file_data.columns]\n",
    "    isparsed=(set(['Peptide', 'UniqueToProtein', 'Exchangeable Hydrogens', 'Charge',\n",
    "       'm/z(Sequence)', 'M0', 'M1', 'M2', 'M3', 'M4']).issubset(set(file_data.columns)))\n",
    "    isparsed=isparsed and file_data.shape[0]>0    \n",
    "    if isparsed:\n",
    "        file_data['Protein']=file.split('\\\\')[-1].replace('.Quant.csv','') \n",
    "        return [isparsed,file_data]\n",
    "    else:\n",
    "        return [isparsed,None]\n",
    "def get_df_all_quant_files(file):\n",
    "    res=read_n_merge(1,file)\n",
    "    all_data=None\n",
    "    if res[0]: all_data=res[1]\n",
    "    else: all_data=read_n_merge(3,file)[1]\n",
    "    return all_data\n",
    "\n",
    "def getquantfile(data_path):\n",
    "    results = Parallel(n_jobs=-1)(delayed(get_df_all_quant_files)(file) for file in [os.path.join(data_path,x) for x in os.listdir(data_path) if '.Quant.csv' in x  ])\n",
    "    all_data=pd.concat(results)\n",
    "    all_data=all_data.reset_index(drop=True)\n",
    "    all_data.columns=[x.strip() for x in all_data.columns]\n",
    "    return all_data"
   ]
  },
  {
   "cell_type": "markdown",
   "metadata": {},
   "source": [
    "3. Data source & path"
   ]
  },
  {
   "cell_type": "code",
   "execution_count": 4,
   "metadata": {},
   "outputs": [],
   "source": [
    "# organ=\"liver\"\n",
    "# organ=\"heart\"\n",
    "organ=\"kidney\"\n",
    "# organ=\"muscle\"\n",
    "# data_path=r'C:\\Workplace\\Python\\AnalysisForThePaper\\NEH\\d2ome_output\\liverpool_liver'\n",
    "# data_path=r'C:\\Workplace\\Python\\AnalysisForThePaper\\NEH\\d2ome_output\\liverpool_heart'\n",
    "data_path=r'C:\\Workplace\\Python\\AnalysisForThePaper\\NEH\\d2ome_output\\liverpool_kidney'\n",
    "# data_path=r'H:\\Warehouse\\Data\\DataUsedForPublication\\Partial IsotopeProfile paper data used for publication\\liverpool_CI\\muscle'\n",
    "\n",
    "\n",
    "data_quant=getquantfile(data_path)\n",
    "data_rate=getAllRate(data_path)\n",
    "data_rate=data_rate[(data_rate.Rsquared!=' -nan(ind)')&(data_rate.Rsquared!=' ')]\n",
    "\n"
   ]
  },
  {
   "cell_type": "markdown",
   "metadata": {},
   "source": [
    "4. merge quant and rate files"
   ]
  },
  {
   "cell_type": "code",
   "execution_count": 5,
   "metadata": {},
   "outputs": [
    {
     "data": {
      "text/plain": [
       "(14294, 217)"
      ]
     },
     "execution_count": 5,
     "metadata": {},
     "output_type": "execute_result"
    }
   ],
   "source": [
    "merged=pd.merge(data_quant,\n",
    "                data_rate,\n",
    "                left_on=['Protein','Peptide','Charge'],\n",
    "                right_on=['Protein','Peptides','Charge'])\n",
    "merged=merged.reset_index(drop=True)\n",
    "merged.shape"
   ]
  },
  {
   "cell_type": "markdown",
   "metadata": {},
   "source": [
    "5. parameters"
   ]
  },
  {
   "cell_type": "code",
   "execution_count": 6,
   "metadata": {},
   "outputs": [],
   "source": [
    "pw,ph=0.046,1.5574E-4\n",
    "# rsquared= 0.99\n",
    "maxrate=math.log(2)\n",
    "exp_time=[0 ,1 ,2 ,3 ,6 ,7 ,9 ,13,16,21,24,31]"
   ]
  },
  {
   "cell_type": "markdown",
   "metadata": {},
   "source": [
    "6. filter data"
   ]
  },
  {
   "cell_type": "code",
   "execution_count": 7,
   "metadata": {},
   "outputs": [
    {
     "data": {
      "text/plain": [
       "(13839, 217)"
      ]
     },
     "execution_count": 7,
     "metadata": {},
     "output_type": "execute_result"
    }
   ],
   "source": [
    "merged=merged[#(merged.Rsquared.astype('float')>=rsquared) &\n",
    "              (merged.RateConstants< math.log(2))]\n",
    "merged=merged.reset_index(drop=True)\n",
    "merged.shape"
   ]
  },
  {
   "cell_type": "markdown",
   "metadata": {},
   "source": [
    "7. Helper functions"
   ]
  },
  {
   "cell_type": "code",
   "execution_count": 8,
   "metadata": {},
   "outputs": [],
   "source": [
    "def get_I0_t(I0_0,I0_asymp,k,t):\n",
    "    return I0_asymp + (I0_0-I0_asymp)*math.exp(-k*t)\n",
    "\n",
    "def get_I0_asmyp(I0_0,neh):\n",
    "    return I0_0*( (1 - pw/(1-ph))**neh )\n",
    "\n",
    "def get_I0_exp(index,suffix):\n",
    "    _sum=float(float(merged.loc[index,f'I0{suffix}'])+float(merged.loc[index,f'I1{suffix}'])+float(merged.loc[index,f'I2{suffix}'])+float(merged.loc[index,f'I3{suffix}'])+\n",
    "                        float(merged.loc[index,f'I4{suffix}'])+float(merged.loc[index,f'I5{suffix}']))\n",
    "    if _sum==0: return None\n",
    "    else: return float(merged.loc[index,f'I0{suffix}'])/_sum\n",
    "\n",
    "def getNewKestimate(M0_0,I0_0_exp,I0_asymp,t,I0_t_exp,numberofTerms): \n",
    "        \n",
    "    base=(I0_0_exp-I0_t_exp)/(M0_0-I0_asymp)    \n",
    "    new_kt= sum([ (base**i)/i for i in range(1,numberofTerms+1)])     \n",
    "    new_k=new_kt/t    \n",
    "    return new_k\n",
    "\n",
    "\n",
    "def getNewKestimateByIndex(time,numberofterms,index):\n",
    "        \n",
    "        time_index=exp_time.index(time)\n",
    "        suffix=f\".{time_index}\"  \n",
    "        # print('time',time,time_index)\n",
    "                                              \n",
    "        if merged.loc[index,f'I0{suffix}'] == ' ' or merged.loc[index,f'I0'] == ' ': \n",
    "            return None            \n",
    "        \n",
    "        I0_0_exp= get_I0_exp(index,\"\")\n",
    "        I0_t_exp=get_I0_exp(index,suffix)\n",
    "        \n",
    "        if I0_0_exp == None or I0_t_exp ==None or  I0_t_exp >  I0_0_exp: \n",
    "            return None\n",
    "\n",
    "        M0_0=float(merged.loc[index,f'M0'])/100\n",
    "        k=float(merged.loc[index,f'RateConstants'])\n",
    "        I0_asymp=M0_0*( (1 - pw/(1-ph))**merged.loc[index,f'Exchangeable Hydrogens'] ) \n",
    "        i0_t_theo= I0_asymp + (M0_0-I0_asymp)*math.exp(-k*time)        \n",
    "\n",
    "        return[merged.loc[index,f'Exchangeable Hydrogens'],\n",
    "                    M0_0,I0_0_exp,\n",
    "                    I0_asymp,\n",
    "                    I0_t_exp,i0_t_theo,k] +[getNewKestimate(M0_0,I0_0_exp,I0_asymp,time,I0_t_exp,numberofterms)]\n",
    "        \n",
    "def computeAllNewRates(_time,_numberOfTerms):\n",
    "    # res = Parallel(n_jobs=-1)(delayed(getNewKestimateByIndex)(_time,_numberOfTerms,index) for index in range(merged.shape[0]))\n",
    "    res=[getNewKestimateByIndex(_time,_numberOfTerms,index) for index in range(merged.shape[0])]\n",
    "    res=pd.DataFrame([r for r in res if r!=None])\n",
    "    res.columns=[\"NEH\",\"M0\",\"I0_0_exp\",\"I0_asmp\",'i0_t_exp','i0_t_theo','d2ome_k','new_k']\n",
    "    return res\n",
    "\n",
    "def plot_hitmap(x,y,path=\"\",title=\"\"):\n",
    "          \n",
    "    plt.rc('font',size=14)\n",
    "    plt.figure(figsize=(7,6))\n",
    "    plt.set_cmap('jet')  \n",
    "    \n",
    "    x=np.array(x)\n",
    "    y=np.array(y)    \n",
    "    xy = np.vstack([x,y])\n",
    "    z = gaussian_kde(xy)(xy)\n",
    "    r=np.corrcoef(x,y)\n",
    "    \n",
    "    cb=plt.scatter(x, y, c=z, s=10,alpha=0.8)  \n",
    "    plt.plot(x,x,ls='-.',c='k',linewidth=1,alpha=0.5,label=f\"n={len(list(x))}\\nr={int(1000*r[0][1])/1000}\")      \n",
    "    cbar = plt.colorbar(cb)\n",
    "    plt.ylabel(\"k (Single time point)\")\n",
    "    plt.xlabel(\"k (Time course data)\")    \n",
    "    plt.legend()  \n",
    "    # Remove top and right spines\n",
    "    plt.gca().spines['top'].set_visible(False)\n",
    "    plt.gca().spines['right'].set_visible(False)\n",
    "    plt.xlim([0,min( max(x),math.log(2) )])\n",
    "    plt.ylim([0,min( max(x),math.log(2) )])\n",
    "\n",
    "    # Adjust layout to prevent labels from overlapping\n",
    "    plt.tight_layout()\n",
    "    if len(path)>0:\n",
    "        plt.savefig(f\"{path}/{title}.jpeg\",dpi=900)\n",
    "        \n",
    "    plt.show()\n",
    "    \n",
    "def plotRateRDDensity(res,path=\"\",title=\"\"):\n",
    "    plt.rc('font',size=14)\n",
    "    plt.figure(figsize=(8,6))\n",
    "    rd_k= (res.d2ome_k - res.new_k)/res.d2ome_k\n",
    "    ax=sns.histplot(rd_k, kde=True, #bins=50,\n",
    "                label=f\"n={len(rd_k)},μ = {int(100*np.mean(rd_k))/100}, \\nmedian = {int(100*np.median(rd_k))/100}, \\nsd = {int(100*np.std(rd_k))/100}\",\n",
    "                color='white',alpha=0.1,edgecolor=('black',0.75) )\n",
    "    ax.lines[0].set_color('k')\n",
    "    ax.lines[0].set_alpha(0.75) \n",
    "    ax.lines[0].set_ls(':') \n",
    "    \n",
    "    plt.gca().spines['top'].set_visible(False)\n",
    "    plt.gca().spines['right'].set_visible(False)\n",
    "    plt.xlabel(r'$\\frac{ k _{\\:Time\\: course\\: data} - k _{\\:Single\\: time\\: point}}{k _{\\:Time\\: course\\: data}}$')\n",
    "    plt.legend()\n",
    "    plt.tight_layout()\n",
    "    if len(path)>0:\n",
    "        plt.savefig(f\"{path}/{title}_RD_k.jpeg\",dpi=900)\n",
    "    plt.show()\n",
    "    \n",
    "def plotI0_expRDDensity(res,path=\"\",title=\"\"):\n",
    "    plt.rc('font',size=14)\n",
    "    plt.figure(figsize=(8,6))\n",
    "    rd_k= (res.i0_t_theo\t - res.i0_t_exp)/res.i0_t_theo\n",
    "    ax=sns.histplot(rd_k, kde=True, #bins=50,\n",
    "                label=f\"n={len(rd_k)},μ = {int(100*np.mean(rd_k))/100}, \\nmedian = {int(100*np.median(rd_k))/100}, \\nsd = {int(100*np.std(rd_k))/100}\",\n",
    "                color='white',alpha=0.1,edgecolor=('black',0.75) )\n",
    "    ax.lines[0].set_color('k')\n",
    "    ax.lines[0].set_alpha(0.75) \n",
    "    ax.lines[0].set_ls(':') \n",
    "    \n",
    "    plt.gca().spines['top'].set_visible(False)\n",
    "    plt.gca().spines['right'].set_visible(False)\n",
    "    plt.xlabel(r'$I0(t)_{theo} - I0(t)_{exp} $')\n",
    "    plt.legend()\n",
    "    plt.tight_layout()\n",
    "    if len(path)>0:\n",
    "        plt.savefig(f\"{path}/{title}_RD_I0_t.jpeg\",dpi=900)\n",
    "    plt.show()\n",
    "    \n",
    "    \n",
    "  \n",
    "def plotSubgroup(res,path=\"\",title=\"\",selection=1):  \n",
    "    res=res.reset_index(drop=True)  \n",
    "    plt.rc('font',size=14)\n",
    "    plt.figure(figsize=(6,6))\n",
    "    plt.set_cmap('jet')\n",
    "    x=np.array(res.d2ome_k)\n",
    "    y=np.array(res.new_k)    \n",
    "    xy = np.vstack([x,y])\n",
    "    z = gaussian_kde(xy)(xy)\n",
    "    cb=plt.scatter(x, y, c=z, s=10,alpha=0.2)\n",
    "    plt.plot(x,x,ls='-.',c='k',linewidth=1,alpha=0.15,)   \n",
    "        \n",
    "    #===========================================================\n",
    "    rd_k = (res.d2ome_k-res.new_k)/res.d2ome_k\n",
    "    rd_i0= (res.i0_t_theo -res.i0_t_exp)\n",
    "    #==========================================================\n",
    "     \n",
    "    index=None\n",
    "    if selection==1:\n",
    "        index=[i for i,val in enumerate(z) if val > (max(z)-max(z)*0.2) ] \n",
    "    elif selection==2:\n",
    "        index=[i for i,val in enumerate(rd_k) if abs(rd_k[i])<0.1 ] \n",
    "     \n",
    "    \n",
    "    plt.scatter(x[index],y[index],c='k',s=10,alpha=0.75,label=f\"n={len(index)}\")\n",
    "    plt.ylabel(\"k (Single time point)\")\n",
    "    plt.xlabel(\"k (Time course data)\")   \n",
    "    plt.gca().spines['top'].set_visible(False)\n",
    "    plt.gca().spines['right'].set_visible(False) \n",
    "        \n",
    "    plt.legend()\n",
    "    plt.tight_layout()\n",
    "    if len(path)>0:\n",
    "        plt.savefig(f\"{path}/{title}_selection.jpeg\",dpi=900)\n",
    "    plt.show()\n",
    "    \n",
    "    \n",
    "    #===========================================================    \n",
    "    rd_k2 = [val for i,val in enumerate(list((res.d2ome_k-res.new_k)/res.d2ome_k)) if i in index ]\n",
    "    rd_i02=  [val for i,val in enumerate(list( (res.i0_t_theo-res.i0_t_exp)) ) if i in index ]         \n",
    "    # #================================================\n",
    "    \n",
    "    plt.rc('font',size=14)\n",
    "    plt.figure(figsize=(9,6))\n",
    "    ax2=sns.histplot(rd_k2, kde=False, #bins=50,\n",
    "                label=f\"n={len(rd_k2)},μ = {int(100*np.mean(rd_k2))/100}, \\nmedian = {int(100*np.median(rd_k2))/100}, \\nsd = {int(100*np.std(rd_k2))/100}\",\n",
    "                color='k',alpha=0.05,edgecolor=('k',0.4)) \n",
    "    \n",
    "    plt.xlabel(r'$\\frac{ k _{\\:Time\\: course\\: data} - k _{\\:Single\\: time\\: point}}{k _{\\:Time\\: course\\: data}}$')\n",
    "    plt.legend()\n",
    "    plt.gca().spines['top'].set_visible(False)\n",
    "    plt.gca().spines['right'].set_visible(False)\n",
    "        \n",
    "    plt.legend()\n",
    "    plt.tight_layout()\n",
    "    if len(path)>0:\n",
    "        plt.savefig(f\"{path}/{title}_RD_k.jpeg\",dpi=900)\n",
    "    plt.show()\n",
    "    \n",
    "    # ## ===================================================\n",
    "    plt.rc('font',size=14)\n",
    "    plt.figure(figsize=(9,6))\n",
    "    ax2=sns.histplot(rd_i02, kde=False, #bins=50,\n",
    "                label=f\"n={len(rd_i02)},μ = {int(100*np.mean(rd_i02))/100}, \\nmedian = {int(100*np.median(rd_i02))/100}, \\nsd = {int(100*np.std(rd_i02))/100}\",\n",
    "                color='k',alpha=0.05,edgecolor=('k',0.4)) \n",
    "    \n",
    "    plt.gca().spines['top'].set_visible(False)\n",
    "    plt.gca().spines['right'].set_visible(False)\n",
    "    plt.xlabel(r'$I0(t)_{theo} - I0(t)_{exp} $')\n",
    "    plt.legend()\n",
    "    \n",
    "    plt.legend()\n",
    "    plt.tight_layout()\n",
    "    if len(path)>0:\n",
    "        plt.savefig(f\"{path}/{title}_RD_I0_t.jpeg\",dpi=900)\n",
    "    plt.show()\n",
    "        "
   ]
  },
  {
   "cell_type": "markdown",
   "metadata": {},
   "source": [
    "8. Prepare all new k values"
   ]
  },
  {
   "cell_type": "code",
   "execution_count": 9,
   "metadata": {},
   "outputs": [],
   "source": [
    "# _res=computeAllNewRates(1,1)\n",
    "# plot_hitmap(_res.d2ome_k,_res.new_k)\n",
    "# plotRateRDDensity(_res)\n",
    "# plotI0_expRDDensity(_res)\n",
    "# plotSubgroup(_res,\"\",\"\",1)"
   ]
  },
  {
   "cell_type": "code",
   "execution_count": 10,
   "metadata": {},
   "outputs": [],
   "source": [
    "allmerged=merged.copy()"
   ]
  },
  {
   "cell_type": "code",
   "execution_count": 11,
   "metadata": {},
   "outputs": [
    {
     "name": "stderr",
     "output_type": "stream",
     "text": [
      "100%|██████████| 5/5 [1:25:21<00:00, 1024.36s/it]\n"
     ]
    }
   ],
   "source": [
    "for _time in tqdm([1 ,2 ,3 ,6 ,7 ]): \n",
    "    for _rsquared in [0.99,0.95,0.9,0.8,0][::-1]:\n",
    "        for _numberofterms in range(1,6):\n",
    "                        \n",
    "            merged=allmerged.copy()\n",
    "            merged=merged[(merged.Rsquared.astype('float')>=_rsquared)]\n",
    "            merged=merged.reset_index(drop=True)\n",
    "            \n",
    "            _res=computeAllNewRates(_time,_numberofterms)\n",
    "            _path1=f\"Figures/{organ}/Day_{_time}/r2_{_rsquared}/numberofterms_{_numberofterms}/\"\n",
    "            _path2=f\"Figures/{organ}/Day_{_time}/r2_{_rsquared}/numberofterms_{_numberofterms}/subgroup/DenseRegion/\"\n",
    "            _path3=f\"Figures/{organ}/Day_{_time}/r2_{_rsquared}/numberofterms_{_numberofterms}/subgroup/10Percent_K_RD/\"\n",
    "            _paths=[_path1,_path2,_path3]\n",
    "            for _path in _paths:\n",
    "                if not os.path.exists(_path): os.makedirs(_path)\n",
    "\n",
    "            _title=f\"{organ}_day_{_time}_numberofterms_{_numberofterms}\"    \n",
    "\n",
    "            plot_hitmap(_res.d2ome_k,_res.new_k,_path1,_title)\n",
    "            plotRateRDDensity(_res,_path1,_title)\n",
    "            plotI0_expRDDensity(_res,_path1,_title)\n",
    "\n",
    "            clear_output(wait=True) \n",
    "\n",
    "            plotSubgroup(_res,_path2,_title,1)\n",
    "            plotSubgroup(_res,_path3,_title,2)\n",
    "\n",
    "            clear_output(wait=True) \n"
   ]
  },
  {
   "cell_type": "code",
   "execution_count": null,
   "metadata": {},
   "outputs": [],
   "source": []
  },
  {
   "cell_type": "code",
   "execution_count": null,
   "metadata": {},
   "outputs": [],
   "source": []
  },
  {
   "cell_type": "code",
   "execution_count": null,
   "metadata": {},
   "outputs": [],
   "source": []
  },
  {
   "cell_type": "code",
   "execution_count": null,
   "metadata": {},
   "outputs": [],
   "source": []
  }
 ],
 "metadata": {
  "kernelspec": {
   "display_name": "henock",
   "language": "python",
   "name": "python3"
  },
  "language_info": {
   "codemirror_mode": {
    "name": "ipython",
    "version": 3
   },
   "file_extension": ".py",
   "mimetype": "text/x-python",
   "name": "python",
   "nbconvert_exporter": "python",
   "pygments_lexer": "ipython3",
   "version": "3.12.4"
  }
 },
 "nbformat": 4,
 "nbformat_minor": 2
}
