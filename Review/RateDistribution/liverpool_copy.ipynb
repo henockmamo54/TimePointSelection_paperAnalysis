{
 "cells": [
  {
   "cell_type": "code",
   "execution_count": 35,
   "metadata": {},
   "outputs": [],
   "source": [
    "import os\n",
    "import math\n",
    "import numpy as np\n",
    "import pandas as pd\n",
    "from tqdm import tqdm\n",
    "import matplotlib.pyplot as plt\n",
    "from mpl_toolkits.mplot3d import Axes3D \n",
    "from scipy.stats import gaussian_kde\n",
    "import seaborn as sns\n",
    "from scipy.optimize import curve_fit\n",
    "from matplotlib import pyplot\n",
    "import numpy as np\n",
    "from sklearn.linear_model import LinearRegression\n",
    "import warnings\n",
    "\n",
    "warnings.filterwarnings('ignore')\n"
   ]
  },
  {
   "cell_type": "code",
   "execution_count": 36,
   "metadata": {},
   "outputs": [],
   "source": [
    "def getAllRateInfo(path):\n",
    "    res=pd.DataFrame()\n",
    "    files=[x for x in os.listdir(path) if 'RateConst.csv' in x  ]\n",
    "    # files=[x for x in os.listdir(path) if 'RateConst.csv' in x and 'CPSM_MOUSE.' in x  ]\n",
    "    # files=[x for x in os.listdir(path) if 'RateConst.csv' in x and 'CH60_MOUSE.' in x  ]\n",
    "    files=[x for x in os.listdir(path) if 'RateConst.csv' in x and 'FAS_MOUSE.' in x  ]\n",
    "    for f in tqdm(files):\n",
    "        try:\n",
    "            temp=pd.read_csv(os.path.join(path,f))\n",
    "            temp=temp.dropna()\n",
    "            temp['Protein']=f.replace('.RateConst.csv','')\n",
    "            res=pd.concat([res,temp])\n",
    "        except Exception as exp:\n",
    "            print(f,exp)\n",
    "    res.columns=[x.strip() for x in res.columns]\n",
    "    return res\n",
    "def read_n_merge(orignial_data,skip,file,folder_path):\n",
    "    file_data=pd.read_csv(os.path.join(folder_path,file),skiprows=skip,index_col=False)\n",
    "    file_data.columns=[x.strip() for x in file_data.columns]\n",
    "    isparsed=(set(['Peptide', 'UniqueToProtein', 'Exchangeable Hydrogens', 'Charge',\n",
    "       'm/z(Sequence)', 'M0', 'M1', 'M2', 'M3', 'M4']).issubset(set(file_data.columns)))\n",
    "    isparsed=isparsed and file_data.shape[0]>0    \n",
    "    if isparsed:\n",
    "        file_data['Protein']=file.replace('.Quant.csv','')\n",
    "        orignial_data=pd.concat([orignial_data,file_data])       \n",
    "    return [isparsed,orignial_data]\n",
    "\n",
    "def get_df_all_quant_files(path):\n",
    "    # files=[x for x in os.listdir(path) if '.Quant.csv' in x  ]\n",
    "    # files=[x for x in os.listdir(path) if 'CPSM_MOUSE.Quant.csv' in x  ] \n",
    "    # files=[x for x in os.listdir(path) if 'CH60_MOUSE.Quant.csv' in x  ] \n",
    "    files=[x for x in os.listdir(path) if 'FAS_MOUSE.Quant.csv' in x  ]      \n",
    "    all_data=pd.DataFrame()  \n",
    "        \n",
    "    for index in tqdm(range(len(files))):            \n",
    "        res=read_n_merge(all_data,1,files[index],path)\n",
    "        # print(res)\n",
    "        if res[0]:\n",
    "            all_data=res[1]\n",
    "        else:\n",
    "            all_data=read_n_merge(all_data,3,files[index],path)[1]\n",
    "    all_data=all_data.reset_index(drop=True)\n",
    "    all_data.columns=[x.strip() for x in all_data.columns]\n",
    "    return all_data"
   ]
  },
  {
   "cell_type": "code",
   "execution_count": 37,
   "metadata": {},
   "outputs": [],
   "source": [
    "path=r\"\\\\UT321319\\Shared_Folder\\NEH_Dependence\\liverpool_liver\""
   ]
  },
  {
   "cell_type": "code",
   "execution_count": 38,
   "metadata": {},
   "outputs": [
    {
     "name": "stderr",
     "output_type": "stream",
     "text": [
      "100%|██████████| 1/1 [00:00<00:00, 15.23it/s]\n",
      "100%|██████████| 1/1 [00:00<00:00, 33.58it/s]\n"
     ]
    }
   ],
   "source": [
    "quant=get_df_all_quant_files(path)\n",
    "rate=getAllRateInfo(path)"
   ]
  },
  {
   "cell_type": "code",
   "execution_count": 39,
   "metadata": {},
   "outputs": [],
   "source": [
    "merged=pd.merge(quant,rate,left_on=['Peptide','Charge'],right_on=['Peptides','Charge'])\n",
    "merged=merged[merged['Rsquared']>0.8].reset_index(drop=True)"
   ]
  },
  {
   "cell_type": "code",
   "execution_count": 40,
   "metadata": {},
   "outputs": [
    {
     "data": {
      "text/plain": [
       "<matplotlib.collections.PathCollection at 0x1aa66faa720>"
      ]
     },
     "execution_count": 40,
     "metadata": {},
     "output_type": "execute_result"
    },
    {
     "data": {
      "image/png": "[encoded data removed]",
      "text/plain": [
       "<Figure size 640x480 with 1 Axes>"
      ]
     },
     "metadata": {},
     "output_type": "display_data"
    }
   ],
   "source": [
    "plt.scatter(merged.NEH,merged.RateConstants,c='k')"
   ]
  },
  {
   "cell_type": "code",
   "execution_count": 41,
   "metadata": {},
   "outputs": [],
   "source": [
    "BW = [0, 0.0386, 0.0448, 0.0458, 0.046, 0.046, 0.046, 0.046, 0.046, 0.046, 0.046, 0.046]\n",
    "allTime = [0, 1, 2, 3, 6, 7, 9, 13, 16, 21, 24, 31]\n",
    "ph=1.5574E-4"
   ]
  },
  {
   "cell_type": "code",
   "execution_count": 42,
   "metadata": {},
   "outputs": [],
   "source": [
    "def get_I0_t(time,data,index):\n",
    "    index_t=allTime.index(time)\n",
    "    suffix=\"\" if index_t==0 else f\".{index_t}\"\n",
    "    total=0\n",
    "    for i in range(6):\n",
    "        try:total+= int(data.loc[index,f\"I{i}{suffix}\"])\n",
    "        except: continue\n",
    "    \n",
    "    ria=None\n",
    "    \n",
    "    if total!=0: \n",
    "        try:\n",
    "            ria=int(data.loc[index,f\"I0{suffix}\"])/total\n",
    "        except: ria=None\n",
    "        \n",
    "    return ria\n",
    "\n",
    "\n",
    "def get_I0_asmyp(data,index):\n",
    "    M0=data.loc[index,'M0']/100\n",
    "    bwe=0.046\n",
    "    neh=data.loc[index,'Exchangeable Hydrogens']\n",
    "    i0_asy=M0*((1-bwe/(1-ph))**neh)\n",
    "    return i0_asy"
   ]
  },
  {
   "cell_type": "code",
   "execution_count": 43,
   "metadata": {},
   "outputs": [],
   "source": [
    "def getRate_pxt_neh_div(time,pxt,neh,showplot=False): \n",
    "\n",
    "  bwe=0.046\n",
    "  \n",
    "  y=[  (1 - pxtval/ (neh* (1-ph)) )**neh for pxtval in pxt]\n",
    "  x=time\n",
    "  \n",
    "  def objective(t, k):\n",
    "    return (1 - bwe/(neh* (1-ph)) )**neh + ( 1 - (1 - bwe/(neh* (1-ph)))**neh)* np.exp(-k * t) \n",
    "\n",
    "  popt, _ = curve_fit(objective, x, y)\n",
    "\n",
    "  k= popt\n",
    "\n",
    "  if showplot:\n",
    "    print(f'k = {k}')\n",
    "\n",
    "    pyplot.figure(figsize=(9,5))\n",
    "    pyplot.scatter(x, y,s=75,c='b',alpha=0.6)\n",
    "    x_line = range(min(min(x),0), max(x)+3, 1)\n",
    "    y_line = objective(x_line, k)\n",
    "    pyplot.plot(x_line, y_line, '--', color='red')\n",
    "\n",
    "    # Remove top and right spines\n",
    "    ax = pyplot.gca()\n",
    "    ax.spines['top'].set_visible(False)\n",
    "    ax.spines['right'].set_visible(False)\n",
    "\n",
    "    pyplot.xticks(x,x)\n",
    "\n",
    "    pyplot.savefig(\"fitplot.png\",dpi=900, transparent=True)\n",
    "\n",
    "    pyplot.show()\n",
    "  \n",
    "  return k[0]"
   ]
  },
  {
   "cell_type": "code",
   "execution_count": 44,
   "metadata": {},
   "outputs": [],
   "source": [
    "def getRate_pxt(time,pxt,neh,showplot=False): \n",
    "\n",
    "  bwe=0.046\n",
    "  \n",
    "  y=[  (1 - pxtval/(1-ph))**neh for pxtval in pxt]\n",
    "  x=time\n",
    "  \n",
    "  def objective(t, k):\n",
    "    return (1 - bwe/(1-ph))**neh + ( 1 - (1 - bwe/(1-ph))**neh)* np.exp(-k * t) \n",
    "\n",
    "  popt, _ = curve_fit(objective, x, y)\n",
    "\n",
    "  k= popt\n",
    "\n",
    "  if showplot:\n",
    "    print(f'k = {k}')\n",
    "\n",
    "    pyplot.figure(figsize=(9,5))\n",
    "    pyplot.scatter(x, y,s=75,c='b',alpha=0.6)\n",
    "    x_line = range(min(min(x),0), max(x)+3, 1)\n",
    "    y_line = objective(x_line, k)\n",
    "    pyplot.plot(x_line, y_line, '--', color='red')\n",
    "\n",
    "    # Remove top and right spines\n",
    "    ax = pyplot.gca()\n",
    "    ax.spines['top'].set_visible(False)\n",
    "    ax.spines['right'].set_visible(False)\n",
    "\n",
    "    pyplot.xticks(x,x)\n",
    "\n",
    "    pyplot.savefig(\"fitplot.png\",dpi=900, transparent=True)\n",
    "\n",
    "    pyplot.show()\n",
    "  \n",
    "  return k[0]"
   ]
  },
  {
   "cell_type": "code",
   "execution_count": 45,
   "metadata": {},
   "outputs": [],
   "source": [
    "def getRate(x,y,i0_asy,M0,showplot=False): \n",
    "\n",
    "  def objective(t, k):\n",
    "    return i0_asy + ( M0 - i0_asy)* np.exp(-k * t) \n",
    "\n",
    "  popt, _ = curve_fit(objective, x, y)\n",
    "\n",
    "  k= popt\n",
    "\n",
    "  if showplot:\n",
    "    print(f'k = {k}')\n",
    "\n",
    "    pyplot.figure(figsize=(9,5))\n",
    "    pyplot.scatter(x, y,s=75,c='b',alpha=0.6)\n",
    "    x_line = range(min(min(x),0), max(x)+3, 1)\n",
    "    y_line = objective(x_line, k)\n",
    "    pyplot.plot(x_line, y_line, '--', color='red')\n",
    "\n",
    "    # Remove top and right spines\n",
    "    ax = pyplot.gca()\n",
    "    ax.spines['top'].set_visible(False)\n",
    "    ax.spines['right'].set_visible(False)\n",
    "\n",
    "    pyplot.xticks(x,x)\n",
    "\n",
    "    pyplot.savefig(\"fitplot.png\",dpi=900, transparent=True)\n",
    "\n",
    "    pyplot.show()\n",
    "  \n",
    "  return k[0]"
   ]
  },
  {
   "cell_type": "code",
   "execution_count": 46,
   "metadata": {},
   "outputs": [],
   "source": [
    "def get_all_RIA(data,index):\n",
    "    _time,_ria=[],[]\n",
    "    for time in allTime:\n",
    "        tempria=get_I0_t(time,data,index)\n",
    "        if not tempria: continue\n",
    "        _time.append(time)\n",
    "        _ria.append(tempria)        \n",
    "    return _time,_ria"
   ]
  },
  {
   "cell_type": "code",
   "execution_count": 47,
   "metadata": {},
   "outputs": [],
   "source": [
    "def getPxt(I0_0,I0_t,neh): \n",
    "    return (1-ph)*(1-(I0_t/I0_0)**(1/neh))\n",
    "    \n",
    "# def getAllpxt(ria,time,neh):\n",
    "#     return [getPxt(ria[0],ria[i],neh) for i in range(len(time))]\n",
    "\n",
    "def getAllpxt(ria,time,neh,M0):\n",
    "    return [getPxt(M0,ria[i],neh) for i in range(len(time))]"
   ]
  },
  {
   "cell_type": "code",
   "execution_count": 48,
   "metadata": {},
   "outputs": [],
   "source": [
    "# index=0\n",
    "# merged.loc[index,'M0']/100,get_all_RIA(merged,index)\n"
   ]
  },
  {
   "cell_type": "code",
   "execution_count": 49,
   "metadata": {},
   "outputs": [],
   "source": [
    "# M0=merged.loc[index,'M0']/100\n",
    "# neh=merged.loc[index,'Exchangeable Hydrogens']\n",
    "# time,ria=get_all_RIA(merged,index)\n",
    "# getAllpxt(ria,time,neh,M0)"
   ]
  },
  {
   "cell_type": "code",
   "execution_count": 50,
   "metadata": {},
   "outputs": [
    {
     "name": "stderr",
     "output_type": "stream",
     "text": [
      "100%|██████████| 106/106 [00:01<00:00, 56.68it/s]\n"
     ]
    }
   ],
   "source": [
    "k_pep,k_charge,k_csv,k_fit_d2ome,k_pxts,k_times,k_nehs,rates_frompxts=[],[],[],[],[],[],[],[]\n",
    "for index in tqdm(range(merged.shape[0])):\n",
    "    M0=merged.loc[index,'M0']/100\n",
    "    time,ria=get_all_RIA(merged,index)\n",
    "    i0_asy=get_I0_asmyp(merged,index)\n",
    "    neh=merged.loc[index,'Exchangeable Hydrogens']\n",
    "    \n",
    "    \n",
    "    if(len(time)<4) or 0 not in time: continue\n",
    "    \n",
    "    k_nehs.append(neh)\n",
    "    k_times.append(time)\n",
    "    k_fit_d2ome.append(getRate(time,ria,i0_asy,M0,False))\n",
    "    k_csv.append(merged.loc[index,'RateConstants'])\n",
    "    k_pep.append(merged.loc[index,'Peptides'])\n",
    "    k_charge.append(merged.loc[index,'Charge'])\n",
    "    k_pxts.append(getAllpxt(ria,time,neh,M0))\n",
    "    \n",
    "    \n",
    "    \n",
    "    rates_frompxts.append(getRate_pxt(time,k_pxts[-1],neh,showplot=False))\n",
    "    \n",
    "    "
   ]
  },
  {
   "cell_type": "code",
   "execution_count": 51,
   "metadata": {},
   "outputs": [],
   "source": [
    "# plt.plot(k_csv,k_csv,c='r',ls='-.')\n",
    "# plt.scatter(k_csv,rates_frompxts,c='k')\n",
    "# plt.xlabel(\"k (d2ome)\")\n",
    "# plt.ylabel(\"k (computed)\")"
   ]
  },
  {
   "cell_type": "code",
   "execution_count": 52,
   "metadata": {},
   "outputs": [
    {
     "name": "stderr",
     "output_type": "stream",
     "text": [
      "100%|██████████| 106/106 [00:00<00:00, 40337.16it/s]\n"
     ]
    },
    {
     "data": {
      "text/html": [
       "<div>\n",
       "<style scoped>\n",
       "    .dataframe tbody tr th:only-of-type {\n",
       "        vertical-align: middle;\n",
       "    }\n",
       "\n",
       "    .dataframe tbody tr th {\n",
       "        vertical-align: top;\n",
       "    }\n",
       "\n",
       "    .dataframe thead th {\n",
       "        text-align: right;\n",
       "    }\n",
       "</style>\n",
       "<table border=\"1\" class=\"dataframe\">\n",
       "  <thead>\n",
       "    <tr style=\"text-align: right;\">\n",
       "      <th></th>\n",
       "      <th>Peptide</th>\n",
       "      <th>Charge</th>\n",
       "      <th>neh</th>\n",
       "      <th>rate</th>\n",
       "      <th>time</th>\n",
       "      <th>pxt</th>\n",
       "    </tr>\n",
       "  </thead>\n",
       "  <tbody>\n",
       "    <tr>\n",
       "      <th>0</th>\n",
       "      <td>DGAWGAFR</td>\n",
       "      <td>2</td>\n",
       "      <td>17</td>\n",
       "      <td>0.23699</td>\n",
       "      <td>0</td>\n",
       "      <td>-0.001595</td>\n",
       "    </tr>\n",
       "    <tr>\n",
       "      <th>1</th>\n",
       "      <td>DGAWGAFR</td>\n",
       "      <td>2</td>\n",
       "      <td>17</td>\n",
       "      <td>0.23699</td>\n",
       "      <td>1</td>\n",
       "      <td>0.003651</td>\n",
       "    </tr>\n",
       "    <tr>\n",
       "      <th>2</th>\n",
       "      <td>DGAWGAFR</td>\n",
       "      <td>2</td>\n",
       "      <td>17</td>\n",
       "      <td>0.23699</td>\n",
       "      <td>2</td>\n",
       "      <td>0.013243</td>\n",
       "    </tr>\n",
       "    <tr>\n",
       "      <th>3</th>\n",
       "      <td>DGAWGAFR</td>\n",
       "      <td>2</td>\n",
       "      <td>17</td>\n",
       "      <td>0.23699</td>\n",
       "      <td>3</td>\n",
       "      <td>0.014625</td>\n",
       "    </tr>\n",
       "    <tr>\n",
       "      <th>4</th>\n",
       "      <td>DGAWGAFR</td>\n",
       "      <td>2</td>\n",
       "      <td>17</td>\n",
       "      <td>0.23699</td>\n",
       "      <td>6</td>\n",
       "      <td>0.037906</td>\n",
       "    </tr>\n",
       "  </tbody>\n",
       "</table>\n",
       "</div>"
      ],
      "text/plain": [
       "    Peptide  Charge  neh     rate  time       pxt\n",
       "0  DGAWGAFR       2   17  0.23699     0 -0.001595\n",
       "1  DGAWGAFR       2   17  0.23699     1  0.003651\n",
       "2  DGAWGAFR       2   17  0.23699     2  0.013243\n",
       "3  DGAWGAFR       2   17  0.23699     3  0.014625\n",
       "4  DGAWGAFR       2   17  0.23699     6  0.037906"
      ]
     },
     "execution_count": 52,
     "metadata": {},
     "output_type": "execute_result"
    }
   ],
   "source": [
    "temp_res=[]\n",
    "\n",
    "for i in tqdm(range(len(k_pxts))):\n",
    "    for j in range(len(k_pxts[i])):        \n",
    "        temp_res.append([k_pep[i],k_charge[i],k_nehs[i],k_csv[i],k_times[i][j],k_pxts[i][j]])\n",
    "        \n",
    "temp_res=pd.DataFrame(temp_res)\n",
    "temp_res.columns=['Peptide','Charge','neh','rate','time','pxt']\n",
    "temp_res.head()        "
   ]
  },
  {
   "cell_type": "code",
   "execution_count": 53,
   "metadata": {},
   "outputs": [],
   "source": [
    "def updated_lr(X,y):\n",
    "    X=np.array(X)\n",
    "    y=np.array(y)\n",
    "    \n",
    "    X=X.reshape(-1, 1)\n",
    "    model = LinearRegression()\n",
    "    model.fit(X, y)\n",
    "    \n",
    "    return model.coef_[0] , model.intercept_"
   ]
  },
  {
   "cell_type": "code",
   "execution_count": 54,
   "metadata": {},
   "outputs": [
    {
     "name": "stdout",
     "output_type": "stream",
     "text": [
      "Coefficient (slope): -0.0002332575227528977\n",
      "Intercept: 0.04051242188801785\n"
     ]
    },
    {
     "data": {
      "image/png": "[encoded data removed]",
      "text/plain": [
       "<Figure size 1000x500 with 2 Axes>"
      ]
     },
     "metadata": {},
     "output_type": "display_data"
    }
   ],
   "source": [
    "def linearRegerssion(X,y,verbose=False):\n",
    "    X=np.array(X)\n",
    "    y=np.array(y)\n",
    "    \n",
    "    X=X.reshape(-1, 1)\n",
    "    model = LinearRegression()\n",
    "    model.fit(X, y)\n",
    "\n",
    "    # Predict\n",
    "    y_pred = model.predict(X)\n",
    "    newpxts=model.intercept_+ (y-y_pred)\n",
    "    \n",
    "    # newpxts=(np.array(y) - model.coef_[0]*np.array(X).flatten())\n",
    "    \n",
    "    # print(  model.intercept_+ (y-y_pred),\n",
    "    #       (np.array(y) - model.coef_[0]*np.array(X).flatten()))\n",
    "    \n",
    "    # print(y-y_pred)\n",
    "    \n",
    "    \n",
    "    \n",
    "\n",
    "    if verbose:\n",
    "        # Output\n",
    "        print(\"Coefficient (slope):\", model.coef_[0])\n",
    "        print(\"Intercept:\", model.intercept_)\n",
    "\n",
    "        # # Plotting\n",
    "        # plt.scatter(X, y, color='blue', label='Data points')\n",
    "        # plt.plot(X, y_pred, color='red', label='Regression line')\n",
    "        \n",
    "        plt.figure(figsize=(10,5))\n",
    "        plt.subplot(1,2,1)\n",
    "        plt.scatter(X, y, color='blue',alpha=0.7)\n",
    "        plt.plot(X, y_pred, color='red',ls=':', label=f'{model.coef_[0]:.4f}*NEH + {model.intercept_:.4f}')\n",
    "        plt.xlabel(\"X\")\n",
    "        plt.ylabel(\"y\")\n",
    "        plt.title(\"Orignial\")\n",
    "        plt.legend()\n",
    "        plt.xlabel(\"NEH\")\n",
    "        plt.ylabel(\"px(t)\")\n",
    "        \n",
    "        _slope,_intercept=updated_lr(X,newpxts)\n",
    "        plt.subplot(1,2,2)\n",
    "        plt.scatter(X,newpxts,c='k',alpha=0.5)\n",
    "        plt.plot(X,[model.intercept_]*len(X),c='r',ls=':',label=f'{_slope:.4f}*NEH + {_intercept:.4f}')\n",
    "        plt.title(\"After Adjustment\")\n",
    "        plt.legend()\n",
    "        \n",
    "        plt.xlabel(\"NEH\")\n",
    "        plt.ylabel(\"px(t)_adjus\")\n",
    "        plt.show()\n",
    "    \n",
    "    return newpxts\n",
    "    \n",
    "\n",
    "\n",
    "pltdata=temp_res[temp_res.time==6]    \n",
    "_=linearRegerssion(np.array(pltdata.neh),np.array(pltdata.pxt),True)"
   ]
  },
  {
   "cell_type": "code",
   "execution_count": null,
   "metadata": {},
   "outputs": [],
   "source": []
  },
  {
   "cell_type": "code",
   "execution_count": 55,
   "metadata": {},
   "outputs": [
    {
     "data": {
      "text/html": [
       "<div>\n",
       "<style scoped>\n",
       "    .dataframe tbody tr th:only-of-type {\n",
       "        vertical-align: middle;\n",
       "    }\n",
       "\n",
       "    .dataframe tbody tr th {\n",
       "        vertical-align: top;\n",
       "    }\n",
       "\n",
       "    .dataframe thead th {\n",
       "        text-align: right;\n",
       "    }\n",
       "</style>\n",
       "<table border=\"1\" class=\"dataframe\">\n",
       "  <thead>\n",
       "    <tr style=\"text-align: right;\">\n",
       "      <th></th>\n",
       "      <th>Peptide</th>\n",
       "      <th>Charge</th>\n",
       "      <th>neh</th>\n",
       "      <th>rate</th>\n",
       "      <th>time</th>\n",
       "      <th>pxt</th>\n",
       "      <th>Adjust_pxt</th>\n",
       "    </tr>\n",
       "  </thead>\n",
       "  <tbody>\n",
       "    <tr>\n",
       "      <th>11</th>\n",
       "      <td>DGAWGAFR</td>\n",
       "      <td>2</td>\n",
       "      <td>17</td>\n",
       "      <td>0.23699</td>\n",
       "      <td>31</td>\n",
       "      <td>0.044988</td>\n",
       "      <td>0.049738</td>\n",
       "    </tr>\n",
       "    <tr>\n",
       "      <th>23</th>\n",
       "      <td>AQVEDAFR</td>\n",
       "      <td>2</td>\n",
       "      <td>22</td>\n",
       "      <td>0.24816</td>\n",
       "      <td>31</td>\n",
       "      <td>0.042836</td>\n",
       "      <td>0.048983</td>\n",
       "    </tr>\n",
       "    <tr>\n",
       "      <th>35</th>\n",
       "      <td>LTQGEVYK</td>\n",
       "      <td>2</td>\n",
       "      <td>12</td>\n",
       "      <td>0.37448</td>\n",
       "      <td>31</td>\n",
       "      <td>0.050558</td>\n",
       "      <td>0.053911</td>\n",
       "    </tr>\n",
       "    <tr>\n",
       "      <th>47</th>\n",
       "      <td>AVAHILGIR</td>\n",
       "      <td>2</td>\n",
       "      <td>19</td>\n",
       "      <td>0.18633</td>\n",
       "      <td>31</td>\n",
       "      <td>0.038332</td>\n",
       "      <td>0.043640</td>\n",
       "    </tr>\n",
       "    <tr>\n",
       "      <th>59</th>\n",
       "      <td>VLEALLPLK</td>\n",
       "      <td>2</td>\n",
       "      <td>14</td>\n",
       "      <td>0.26288</td>\n",
       "      <td>31</td>\n",
       "      <td>0.046658</td>\n",
       "      <td>0.050570</td>\n",
       "    </tr>\n",
       "  </tbody>\n",
       "</table>\n",
       "</div>"
      ],
      "text/plain": [
       "      Peptide  Charge  neh     rate  time       pxt  Adjust_pxt\n",
       "11   DGAWGAFR       2   17  0.23699    31  0.044988    0.049738\n",
       "23   AQVEDAFR       2   22  0.24816    31  0.042836    0.048983\n",
       "35   LTQGEVYK       2   12  0.37448    31  0.050558    0.053911\n",
       "47  AVAHILGIR       2   19  0.18633    31  0.038332    0.043640\n",
       "59  VLEALLPLK       2   14  0.26288    31  0.046658    0.050570"
      ]
     },
     "execution_count": 55,
     "metadata": {},
     "output_type": "execute_result"
    }
   ],
   "source": [
    "updatedData=pd.DataFrame()\n",
    "for t in allTime: \n",
    "    pltdata=temp_res[temp_res.time==t] \n",
    "    pltdata['Adjust_pxt']=linearRegerssion(np.array(pltdata.neh),np.array(pltdata.pxt),False)\n",
    "    updatedData=pd.concat([pltdata,updatedData])\n",
    "updatedData.head()\n",
    "    "
   ]
  },
  {
   "cell_type": "code",
   "execution_count": null,
   "metadata": {},
   "outputs": [],
   "source": []
  },
  {
   "cell_type": "code",
   "execution_count": 56,
   "metadata": {},
   "outputs": [],
   "source": [
    "temp_updated=updatedData.groupby(by=['Peptide','Charge','neh','rate']).aggregate({\"time\":[list],\"pxt\":[list],\"Adjust_pxt\":[list]})\n",
    "temp_updated=temp_updated.reset_index()\n",
    "temp_updated.columns=['Peptide','Charge','neh','rate','time','pxt','adjpxt']"
   ]
  },
  {
   "cell_type": "code",
   "execution_count": null,
   "metadata": {},
   "outputs": [],
   "source": []
  },
  {
   "cell_type": "code",
   "execution_count": null,
   "metadata": {},
   "outputs": [],
   "source": []
  },
  {
   "cell_type": "code",
   "execution_count": 57,
   "metadata": {},
   "outputs": [],
   "source": [
    "# index=0\n",
    "# getRate_pxt(temp_updated.loc[index,'time'],temp_updated.loc[index,'pxt'],temp_updated.loc[index,'neh'])"
   ]
  },
  {
   "cell_type": "code",
   "execution_count": 58,
   "metadata": {},
   "outputs": [],
   "source": [
    "# getRate_pxt_neh_div(temp_updated.loc[index,'time'],temp_updated.loc[index,'adjpxt'],temp_updated.loc[index,'neh'])"
   ]
  },
  {
   "cell_type": "code",
   "execution_count": 59,
   "metadata": {},
   "outputs": [],
   "source": [
    "# plt.scatter(temp_updated.neh,\n",
    "#             [getRate_pxt(temp_updated.loc[index,'time'],temp_updated.loc[index,'pxt'],temp_updated.loc[index,'neh']) for index in range(temp_updated.shape[0])])"
   ]
  },
  {
   "cell_type": "code",
   "execution_count": 60,
   "metadata": {},
   "outputs": [
    {
     "data": {
      "text/plain": [
       "Text(0.5, 1.0, 'Mean = 0.252, Median = 0.256, SD = 0.0706')"
      ]
     },
     "execution_count": 60,
     "metadata": {},
     "output_type": "execute_result"
    },
    {
     "data": {
      "image/png": "[encoded data removed]",
      "text/plain": [
       "<Figure size 640x480 with 1 Axes>"
      ]
     },
     "metadata": {},
     "output_type": "display_data"
    }
   ],
   "source": [
    "new_Rate_formula=[getRate_pxt_neh_div(temp_updated.loc[index,'time'],temp_updated.loc[index,'adjpxt'],temp_updated.loc[index,'neh']) for index in range(temp_updated.shape[0])]\n",
    "# new_Rate_formula=[getRate_pxt_neh_div(temp_updated.loc[index,'time'],temp_updated.loc[index,'pxt'],temp_updated.loc[index,'neh']) for index in range(temp_updated.shape[0])]\n",
    "\n",
    "\n",
    "_slope,_intercept=updated_lr(temp_updated.neh,new_Rate_formula)\n",
    "plt.scatter(temp_updated.neh,new_Rate_formula,c='k',alpha=0.7)\n",
    "plt.plot(temp_updated.neh,[_slope*i +_intercept for i in temp_updated.neh],c='r',ls=\"-.\",\n",
    "            label=f'{_slope:.4f}*NEH + {_intercept:.4f}')\n",
    "plt.legend()\n",
    "plt.xlabel(\"NEH\")\n",
    "plt.ylabel(\"k\")\n",
    "\n",
    "\n",
    "plt.title(f\"Mean = {np.mean(new_Rate_formula):.3f}, Median = {np.median(new_Rate_formula):.3f}, SD = {np.std(new_Rate_formula):.4f}\")"
   ]
  },
  {
   "cell_type": "code",
   "execution_count": 61,
   "metadata": {},
   "outputs": [
    {
     "data": {
      "text/plain": [
       "Text(0.5, 1.0, 'Mean = 0.250, Median = 0.253, SD = 0.0782')"
      ]
     },
     "execution_count": 61,
     "metadata": {},
     "output_type": "execute_result"
    },
    {
     "data": {
      "image/png": "[encoded data removed]",
      "text/plain": [
       "<Figure size 640x480 with 1 Axes>"
      ]
     },
     "metadata": {},
     "output_type": "display_data"
    }
   ],
   "source": [
    "# plt.scatter(temp_updated.neh,temp_updated.rate)\n",
    "# np.mean(temp_updated.rate),np.median(temp_updated.rate),np.std(temp_updated.rate),updated_lr(temp_updated.neh,temp_updated.rate)\n",
    "\n",
    "_slope,_intercept=updated_lr(temp_updated.neh,temp_updated.rate)\n",
    "plt.scatter(temp_updated.neh,temp_updated.rate,c='k',alpha=0.7)\n",
    "plt.plot(temp_updated.neh,[_slope*i +_intercept for i in temp_updated.neh],c='r',ls=\"-.\",\n",
    "            label=f'{_slope:.4f}*NEH + {_intercept:.4f}')\n",
    "plt.legend()\n",
    "plt.xlabel(\"NEH\")\n",
    "plt.ylabel(\"k\")\n",
    "\n",
    "\n",
    "plt.title(f\"Mean = {np.mean(temp_updated.rate):.3f}, Median = {np.median(temp_updated.rate):.3f}, SD = {np.std(temp_updated.rate):.4f}\")"
   ]
  },
  {
   "cell_type": "code",
   "execution_count": 62,
   "metadata": {},
   "outputs": [
    {
     "data": {
      "text/plain": [
       "0.06324250000000001"
      ]
     },
     "execution_count": 62,
     "metadata": {},
     "output_type": "execute_result"
    }
   ],
   "source": [
    "np.median(temp_updated.rate)*0.25"
   ]
  },
  {
   "cell_type": "code",
   "execution_count": 63,
   "metadata": {},
   "outputs": [
    {
     "data": {
      "text/plain": [
       "0.6226415094339622"
      ]
     },
     "execution_count": 63,
     "metadata": {},
     "output_type": "execute_result"
    }
   ],
   "source": [
    "temp_updated.rate[(temp_updated.rate >= np.median(temp_updated.rate) - np.median(temp_updated.rate)*0.25) &\n",
    "                  ((temp_updated.rate <= np.median(temp_updated.rate) + np.median(temp_updated.rate)*0.25))].shape[0]/temp_updated.shape[0]"
   ]
  },
  {
   "cell_type": "code",
   "execution_count": null,
   "metadata": {},
   "outputs": [],
   "source": []
  },
  {
   "cell_type": "code",
   "execution_count": null,
   "metadata": {},
   "outputs": [],
   "source": []
  }
 ],
 "metadata": {
  "kernelspec": {
   "display_name": "henock",
   "language": "python",
   "name": "python3"
  },
  "language_info": {
   "codemirror_mode": {
    "name": "ipython",
    "version": 3
   },
   "file_extension": ".py",
   "mimetype": "text/x-python",
   "name": "python",
   "nbconvert_exporter": "python",
   "pygments_lexer": "ipython3",
   "version": "3.12.4"
  }
 },
 "nbformat": 4,
 "nbformat_minor": 2
}
