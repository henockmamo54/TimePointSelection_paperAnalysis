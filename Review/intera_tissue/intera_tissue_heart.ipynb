{
 "cells": [
  {
   "cell_type": "code",
   "execution_count": 1,
   "id": "1f49bd39",
   "metadata": {},
   "outputs": [],
   "source": [
    "import os\n",
    "import math\n",
    "import numpy as np\n",
    "import pandas as pd\n",
    "from tqdm import tqdm\n",
    "import matplotlib.pyplot as plt\n",
    "from mpl_toolkits.mplot3d import Axes3D \n",
    "from scipy.stats import gaussian_kde\n",
    "import seaborn as sns\n",
    "from scipy.optimize import curve_fit\n",
    "from matplotlib import pyplot\n",
    "import numpy as np\n",
    "from sklearn.linear_model import LinearRegression\n",
    "import warnings\n",
    "\n",
    "warnings.filterwarnings('ignore')\n"
   ]
  },
  {
   "cell_type": "code",
   "execution_count": 2,
   "id": "9bbf038b",
   "metadata": {},
   "outputs": [],
   "source": [
    "\n",
    "def getAllRateInfo(path):\n",
    "    res=pd.DataFrame()\n",
    "    files=[x for x in os.listdir(path) if 'RateConst.csv' in x  ]\n",
    "    # files=[x for x in os.listdir(path) if 'RateConst.csv' in x and 'CPSM_MOUSE.' in x  ]\n",
    "    # files=[x for x in os.listdir(path) if 'RateConst.csv' in x and 'CH60_MOUSE.' in x  ]\n",
    "    # files=[x for x in os.listdir(path) if 'RateConst.csv' in x and 'FAS_MOUSE.' in x  ]\n",
    "    for f in tqdm(files):\n",
    "        try:\n",
    "            temp=pd.read_csv(os.path.join(path,f))\n",
    "            temp=temp.dropna()\n",
    "            temp['Protein']=f.replace('.RateConst.csv','')\n",
    "            res=pd.concat([res,temp])\n",
    "        except Exception as exp:\n",
    "            print(f,exp)\n",
    "    res.columns=[x.strip() for x in res.columns]\n",
    "    return res\n",
    "def read_n_merge(orignial_data,skip,file,folder_path):\n",
    "    file_data=pd.read_csv(os.path.join(folder_path,file),skiprows=skip,index_col=False)\n",
    "    file_data.columns=[x.strip() for x in file_data.columns]\n",
    "    isparsed=(set(['Peptide', 'UniqueToProtein', 'Exchangeable Hydrogens', 'Charge',\n",
    "       'm/z(Sequence)', 'M0', 'M1', 'M2', 'M3', 'M4']).issubset(set(file_data.columns)))\n",
    "    isparsed=isparsed and file_data.shape[0]>0    \n",
    "    if isparsed:\n",
    "        file_data['Protein']=file.replace('.Quant.csv','')\n",
    "        orignial_data=pd.concat([orignial_data,file_data])       \n",
    "    return [isparsed,orignial_data]\n",
    "\n",
    "def get_df_all_quant_files(path):\n",
    "    files=[x for x in os.listdir(path) if '.Quant.csv' in x  ]\n",
    "    # files=[x for x in os.listdir(path) if 'CPSM_MOUSE.Quant.csv' in x  ] \n",
    "    # files=[x for x in os.listdir(path) if 'CH60_MOUSE.Quant.csv' in x  ] \n",
    "    # files=[x for x in os.listdir(path) if 'FAS_MOUSE.Quant.csv' in x  ]      \n",
    "    all_data=pd.DataFrame()  \n",
    "        \n",
    "    for index in tqdm(range(len(files))):            \n",
    "        res=read_n_merge(all_data,1,files[index],path)\n",
    "        # print(res)\n",
    "        if res[0]:\n",
    "            all_data=res[1]\n",
    "        else:\n",
    "            all_data=read_n_merge(all_data,3,files[index],path)[1]\n",
    "    all_data=all_data.reset_index(drop=True)\n",
    "    all_data.columns=[x.strip() for x in all_data.columns]\n",
    "    return all_data"
   ]
  },
  {
   "cell_type": "code",
   "execution_count": 3,
   "id": "ded8880b",
   "metadata": {},
   "outputs": [
    {
     "name": "stderr",
     "output_type": "stream",
     "text": [
      "100%|██████████| 1267/1267 [02:28<00:00,  8.55it/s]\n",
      "100%|██████████| 1267/1267 [01:07<00:00, 18.67it/s]\n"
     ]
    }
   ],
   "source": [
    "path=r\"\\\\UT321319\\Shared_Folder\\NEH_Dependence\\liverpool_heart\"\n",
    "quant=get_df_all_quant_files(path)\n",
    "rate=getAllRateInfo(path)"
   ]
  },
  {
   "cell_type": "code",
   "execution_count": 4,
   "id": "9584880e",
   "metadata": {},
   "outputs": [],
   "source": [
    "merged=pd.merge(quant,rate,left_on=['Peptide','Charge'],right_on=['Peptides','Charge'])\n",
    "merged=merged[merged['Rsquared']>0.8].reset_index(drop=True)\n",
    "merged=merged.reset_index(drop=True)\n",
    "# quant=merged.copy()"
   ]
  },
  {
   "cell_type": "code",
   "execution_count": 19,
   "id": "937eba38",
   "metadata": {},
   "outputs": [
    {
     "data": {
      "image/png": "[encoded data removed]",
      "text/plain": [
       "<Figure size 640x480 with 1 Axes>"
      ]
     },
     "metadata": {},
     "output_type": "display_data"
    }
   ],
   "source": [
    "l_k,u_k=0.018,0.06\n",
    "sns.histplot(merged.RateConstants,color='green',alpha=0.35)\n",
    "plt.xlim(0,0.25)\n",
    "plt.vlines(x=l_k,ymin=0,ymax=710,colors='r',ls=\"-.\",\n",
    "           label=f\"{100*merged[(merged.RateConstants>=l_k)&(merged.RateConstants<=u_k)].shape[0]/merged.shape[0]:.2f}%\")\n",
    "plt.vlines(x=u_k,ymin=0,ymax=700,colors='r',ls=\"-.\")\n",
    "plt.xlabel(\"Turnover rate(k)\")\n",
    "plt.legend()\n",
    "# merged[(merged.RateConstants>=0.07)&(merged.RateConstants<=0.21)].shape[0]/merged.shape[0]\n",
    "\n",
    "plt.tight_layout()\n",
    "plt.savefig(\"heart_k_dist.jpeg\",dpi=900)\n"
   ]
  },
  {
   "cell_type": "code",
   "execution_count": 6,
   "id": "1f9ecb3c",
   "metadata": {},
   "outputs": [],
   "source": [
    "# rate.columns"
   ]
  },
  {
   "cell_type": "code",
   "execution_count": 7,
   "id": "08c8c566",
   "metadata": {},
   "outputs": [],
   "source": [
    "# for i in merged.columns:\n",
    "#     print(i)"
   ]
  },
  {
   "cell_type": "code",
   "execution_count": null,
   "id": "1ae84eb9",
   "metadata": {},
   "outputs": [],
   "source": []
  }
 ],
 "metadata": {
  "kernelspec": {
   "display_name": "henock",
   "language": "python",
   "name": "python3"
  },
  "language_info": {
   "codemirror_mode": {
    "name": "ipython",
    "version": 3
   },
   "file_extension": ".py",
   "mimetype": "text/x-python",
   "name": "python",
   "nbconvert_exporter": "python",
   "pygments_lexer": "ipython3",
   "version": "3.12.4"
  }
 },
 "nbformat": 4,
 "nbformat_minor": 5
}
