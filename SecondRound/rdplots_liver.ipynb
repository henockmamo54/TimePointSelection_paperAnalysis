{
 "cells": [
  {
   "cell_type": "code",
   "execution_count": 23,
   "metadata": {},
   "outputs": [],
   "source": [
    "import os\n",
    "import math\n",
    "import numpy as np\n",
    "import pandas as pd\n",
    "from tqdm import tqdm\n",
    "import matplotlib.pyplot as plt\n",
    "from mpl_toolkits.mplot3d import Axes3D \n",
    "from scipy.stats import gaussian_kde\n",
    "import seaborn as sns\n",
    "from joblib import Parallel, delayed\n",
    "from IPython.display import clear_output\n",
    "\n",
    "import warnings\n",
    "\n",
    "warnings.filterwarnings('ignore')\n"
   ]
  },
  {
   "cell_type": "markdown",
   "metadata": {},
   "source": [
    "1. RateConst Reader\n"
   ]
  },
  {
   "cell_type": "code",
   "execution_count": 24,
   "metadata": {},
   "outputs": [],
   "source": [
    "def getAllRateInfo(file):   \n",
    "    res=pd.DataFrame()\n",
    "    try:\n",
    "        temp=pd.read_csv(file)\n",
    "        temp=temp.dropna()\n",
    "        temp['Protein']=file.split('\\\\')[-1].replace('.RateConst.csv','')\n",
    "        res=pd.concat([res,temp])\n",
    "    except Exception as exp:\n",
    "        return res\n",
    "    \n",
    "    return res\n",
    "def getAllRate(data_path):\n",
    "    results = Parallel(n_jobs=-1)(delayed(getAllRateInfo)(file) for file in [os.path.join(data_path,x) for x in os.listdir(data_path) if '.RateConst.csv' in x  ]) \n",
    "    all_data=pd.concat(results)\n",
    "    all_data=all_data.reset_index(drop=True)\n",
    "    all_data.columns=[x.strip() for x in all_data.columns]\n",
    "    return all_data"
   ]
  },
  {
   "cell_type": "markdown",
   "metadata": {},
   "source": [
    "2. Quant File Reader"
   ]
  },
  {
   "cell_type": "code",
   "execution_count": 25,
   "metadata": {},
   "outputs": [],
   "source": [
    "def read_n_merge(skip,file):\n",
    "    file_data=pd.read_csv(file,skiprows=skip,index_col=False)\n",
    "    file_data.columns=[x.strip() for x in file_data.columns]\n",
    "    isparsed=(set(['Peptide', 'UniqueToProtein', 'Exchangeable Hydrogens', 'Charge',\n",
    "       'm/z(Sequence)', 'M0', 'M1', 'M2', 'M3', 'M4']).issubset(set(file_data.columns)))\n",
    "    isparsed=isparsed and file_data.shape[0]>0    \n",
    "    if isparsed:\n",
    "        file_data['Protein']=file.split('\\\\')[-1].replace('.Quant.csv','') \n",
    "        return [isparsed,file_data]\n",
    "    else:\n",
    "        return [isparsed,None]\n",
    "def get_df_all_quant_files(file):\n",
    "    res=read_n_merge(1,file)\n",
    "    all_data=None\n",
    "    if res[0]: all_data=res[1]\n",
    "    else: all_data=read_n_merge(3,file)[1]\n",
    "    return all_data\n",
    "\n",
    "def getquantfile(data_path):\n",
    "    results = Parallel(n_jobs=-1)(delayed(get_df_all_quant_files)(file) for file in [os.path.join(data_path,x) for x in os.listdir(data_path) if '.Quant.csv' in x  ])\n",
    "    all_data=pd.concat(results)\n",
    "    all_data=all_data.reset_index(drop=True)\n",
    "    all_data.columns=[x.strip() for x in all_data.columns]\n",
    "    return all_data"
   ]
  },
  {
   "cell_type": "markdown",
   "metadata": {},
   "source": [
    "3. Data source & path"
   ]
  },
  {
   "cell_type": "code",
   "execution_count": 26,
   "metadata": {},
   "outputs": [],
   "source": [
    "organ=\"liver\"\n",
    "# organ=\"heart\"\n",
    "# organ=\"muscle\"\n",
    "data_path=r'C:\\Workplace\\Python\\AnalysisForThePaper\\NEH\\d2ome_output\\liverpool_liver'\n",
    "# data_path=r'C:\\Workplace\\Python\\AnalysisForThePaper\\NEH\\d2ome_output\\liverpool_heart'\n",
    "# data_path=r'H:\\Warehouse\\Data\\DataUsedForPublication\\Partial IsotopeProfile paper data used for publication\\liverpool_CI\\muscle'\n",
    "\n",
    "\n",
    "data_quant=getquantfile(data_path)\n",
    "data_rate=getAllRate(data_path)\n",
    "data_rate=data_rate[(data_rate.Rsquared!=' -nan(ind)')&(data_rate.Rsquared!=' ')]\n",
    "\n"
   ]
  },
  {
   "cell_type": "markdown",
   "metadata": {},
   "source": [
    "4. merge quant and rate files"
   ]
  },
  {
   "cell_type": "code",
   "execution_count": 27,
   "metadata": {},
   "outputs": [
    {
     "data": {
      "text/plain": [
       "(18510, 219)"
      ]
     },
     "execution_count": 27,
     "metadata": {},
     "output_type": "execute_result"
    }
   ],
   "source": [
    "merged=pd.merge(data_quant,\n",
    "                data_rate,\n",
    "                left_on=['Protein','Peptide','Charge'],\n",
    "                right_on=['Protein','Peptides','Charge'])\n",
    "merged=merged.reset_index(drop=True)\n",
    "merged.shape"
   ]
  },
  {
   "cell_type": "markdown",
   "metadata": {},
   "source": [
    "5. parameters"
   ]
  },
  {
   "cell_type": "code",
   "execution_count": 28,
   "metadata": {},
   "outputs": [],
   "source": [
    "pw,ph=0.046,1.5574E-4\n",
    "# rsquared= 0.99\n",
    "maxrate=math.log(2)\n",
    "exp_time=[0 ,1 ,2 ,3 ,6 ,7 ,9 ,13,16,21,24,31]"
   ]
  },
  {
   "cell_type": "markdown",
   "metadata": {},
   "source": [
    "6. filter data"
   ]
  },
  {
   "cell_type": "code",
   "execution_count": 29,
   "metadata": {},
   "outputs": [
    {
     "data": {
      "text/plain": [
       "(17344, 219)"
      ]
     },
     "execution_count": 29,
     "metadata": {},
     "output_type": "execute_result"
    }
   ],
   "source": [
    "merged=merged[#(merged.Rsquared.astype('float')>=rsquared) &\n",
    "              (merged.RateConstants< math.log(2))]\n",
    "merged=merged.reset_index(drop=True)\n",
    "merged.shape"
   ]
  },
  {
   "cell_type": "markdown",
   "metadata": {},
   "source": [
    "7. Helper functions"
   ]
  },
  {
   "cell_type": "code",
   "execution_count": 30,
   "metadata": {},
   "outputs": [],
   "source": [
    "def get_I0_t(I0_0,I0_asymp,k,t):\n",
    "    return I0_asymp + (I0_0-I0_asymp)*math.exp(-k*t)\n",
    "\n",
    "def get_I0_asmyp(I0_0,neh):\n",
    "    return I0_0*( (1 - pw/(1-ph))**neh )\n",
    "\n",
    "def get_I0_exp(index,suffix):\n",
    "    _sum=float(float(merged.loc[index,f'I0{suffix}'])+float(merged.loc[index,f'I1{suffix}'])+float(merged.loc[index,f'I2{suffix}'])+float(merged.loc[index,f'I3{suffix}'])+\n",
    "                        float(merged.loc[index,f'I4{suffix}'])+float(merged.loc[index,f'I5{suffix}']))\n",
    "    if _sum==0: return None\n",
    "    else: return float(merged.loc[index,f'I0{suffix}'])/_sum\n",
    "\n",
    "def getNewKestimate(M0_0,I0_0_exp,I0_asymp,t,I0_t_exp,numberofTerms): \n",
    "        \n",
    "    base=(I0_0_exp-I0_t_exp)/(M0_0-I0_asymp)    \n",
    "    new_kt= sum([ (base**i)/i for i in range(1,numberofTerms+1)])     \n",
    "    new_k=new_kt/t    \n",
    "    return new_k\n",
    "\n",
    "\n",
    "def getNewKestimateByIndex(time,numberofterms,index):\n",
    "        \n",
    "        time_index=exp_time.index(time)\n",
    "        suffix=f\".{time_index}\"  \n",
    "        # print('time',time,time_index)\n",
    "                                              \n",
    "        if merged.loc[index,f'I0{suffix}'] == ' ' or merged.loc[index,f'I0'] == ' ': \n",
    "            return None            \n",
    "        \n",
    "        I0_0_exp= get_I0_exp(index,\"\")\n",
    "        I0_t_exp=get_I0_exp(index,suffix)\n",
    "        \n",
    "        if I0_0_exp == None or I0_t_exp ==None or  I0_t_exp >  I0_0_exp: \n",
    "            return None\n",
    "\n",
    "        M0_0=float(merged.loc[index,f'M0'])/100\n",
    "        k=float(merged.loc[index,f'RateConstants'])\n",
    "        I0_asymp=M0_0*( (1 - pw/(1-ph))**merged.loc[index,f'Exchangeable Hydrogens'] ) \n",
    "        i0_t_theo= I0_asymp + (M0_0-I0_asymp)*math.exp(-k*time)     \n",
    "        \n",
    "        exp_fsr= (I0_0_exp-I0_t_exp)/(M0_0-I0_asymp)\n",
    "        # print(exp_fsr, (I0_0_exp-I0_t_exp),(M0_0-I0_asymp),\"==>\",(I0_0_exp,I0_t_exp),(M0_0,I0_asymp) )\n",
    "        if exp_fsr > 1: return None\n",
    "        exp_kt= -math.log( 1 - exp_fsr) \n",
    "        d2ome_kt=k*time\n",
    "        \n",
    "        error=   abs(exp_kt - d2ome_kt)/d2ome_kt\n",
    "\n",
    "        return[merged.loc[index,'Protein'],\n",
    "               merged.loc[index,'Peptide'],\n",
    "               merged.loc[index,'Charge'],                \n",
    "                    merged.loc[index,f'Exchangeable Hydrogens'],\n",
    "                    M0_0,I0_0_exp,\n",
    "                    I0_asymp,\n",
    "                    I0_t_exp,i0_t_theo,k] +[getNewKestimate(M0_0,I0_0_exp,I0_asymp,time,I0_t_exp,numberofterms),error]\n",
    "        \n",
    "def computeAllNewRates(_time,_numberOfTerms):\n",
    "    # res = Parallel(n_jobs=-1)(delayed(getNewKestimateByIndex)(_time,_numberOfTerms,index) for index in range(merged.shape[0]))\n",
    "    res=[getNewKestimateByIndex(_time,_numberOfTerms,index) for index in range(merged.shape[0])]\n",
    "    res=pd.DataFrame([r for r in res if r!=None])\n",
    "    res.columns=['Protein','Peptide','Charge',\"NEH\",\"M0\",\"I0_0_exp\",\"I0_asmp\",'i0_t_exp','i0_t_theo','d2ome_k','new_k','error']\n",
    "    return res\n",
    "\n",
    "def plot_hitmap(x,y,time,path=\"\",title=\"\"):\n",
    "          \n",
    "    plt.rc('font',size=14)\n",
    "    plt.figure(figsize=(7,6))\n",
    "    plt.set_cmap('jet')  \n",
    "    \n",
    "    x=np.array(x)\n",
    "    y=np.array(y)    \n",
    "    xy = np.vstack([x,y])\n",
    "    z = gaussian_kde(xy)(xy)\n",
    "    r=np.corrcoef(x,y)\n",
    "    \n",
    "    # Create the main plot\n",
    "    _, ax1 = plt.subplots()\n",
    "\n",
    "\n",
    "    cb=ax1.scatter(x, y, c=z, s=10,alpha=0.8)  \n",
    "    ax1.plot(x,x,ls='-.',c='k',linewidth=1,alpha=0.5,label=f\"n={len(list(x))}\\nr={int(1000*r[0][1])/1000}\")      \n",
    "    cbar = plt.colorbar(cb)\n",
    "    ax1.set_ylabel(\"k (Single time point)\")\n",
    "    ax1.set_xlabel(\"k (Time course data)\")    \n",
    "    ax1.legend()  \n",
    "    # Remove top and right spines\n",
    "    ax1.spines['top'].set_visible(False)\n",
    "    ax1.spines['right'].set_visible(False)\n",
    "    # ax1.set_xlim([0,min(max(x),0.3)])\n",
    "    # ax1.set_ylim([0,min(max(y),0.3)])\n",
    "    \n",
    "    \n",
    "    # Create the second x-axis\n",
    "    ax2 = ax1.twiny()\n",
    "    ax2.set_xlim(ax1.get_xlim())\n",
    "    ax2.set_xticks([(i*time) for i in ax1.get_xticks()])\n",
    "    ax2.set_xlabel('kt', color='k')\n",
    "    ax2.spines['right'].set_visible(False)\n",
    "\n",
    "\n",
    "    # Adjust layout to prevent labels from overlapping\n",
    "    plt.tight_layout()\n",
    "    if len(path)>0:\n",
    "        plt.savefig(f\"{path}/{title}.jpeg\",dpi=900)\n",
    "        \n",
    "    plt.show()\n",
    "    \n",
    "    \n",
    "   \n",
    "def plotRateRDDensity(res,path=\"\",title=\"\"):\n",
    "    plt.rc('font',size=14)\n",
    "    plt.figure(figsize=(8,6))\n",
    "    rd_k= (res.d2ome_k - res.new_k)/res.d2ome_k\n",
    "    ax=sns.histplot(rd_k, kde=True, #bins=50,\n",
    "                label=f\"n={len(rd_k)},μ = {int(100*np.mean(rd_k))/100}, \\nmedian = {int(100*np.median(rd_k))/100}, \\nsd = {int(100*np.std(rd_k))/100}\",\n",
    "                color='white',alpha=0.1,edgecolor=('black',0.75) )\n",
    "    ax.lines[0].set_color('k')\n",
    "    ax.lines[0].set_alpha(0.75) \n",
    "    ax.lines[0].set_ls(':') \n",
    "    \n",
    "    plt.gca().spines['top'].set_visible(False)\n",
    "    plt.gca().spines['right'].set_visible(False)\n",
    "    plt.xlabel(r'$\\frac{ k _{\\:Time\\: course\\: data} - k _{\\:Single\\: time\\: point}}{k _{\\:Time\\: course\\: data}}$')\n",
    "    plt.legend()\n",
    "    plt.tight_layout()\n",
    "    if len(path)>0:\n",
    "        plt.savefig(f\"{path}/{title}_RD_k.jpeg\",dpi=900)\n",
    "    plt.show()"
   ]
  },
  {
   "cell_type": "markdown",
   "metadata": {},
   "source": [
    "8. Prepare all new k values"
   ]
  },
  {
   "cell_type": "code",
   "execution_count": 31,
   "metadata": {},
   "outputs": [],
   "source": [
    "# _res=computeAllNewRates(1,1)\n",
    "# plot_hitmap(_res.d2ome_k,_res.new_k)\n",
    "# plotRateRDDensity(_res)\n",
    "# plotI0_expRDDensity(_res)\n",
    "# plotSubgroup(_res,\"\",\"\",1)"
   ]
  },
  {
   "cell_type": "code",
   "execution_count": 32,
   "metadata": {},
   "outputs": [
    {
     "data": {
      "text/plain": [
       "(17344, 219)"
      ]
     },
     "execution_count": 32,
     "metadata": {},
     "output_type": "execute_result"
    }
   ],
   "source": [
    "allmerged=merged.copy()\n",
    "allmerged.shape"
   ]
  },
  {
   "cell_type": "code",
   "execution_count": 33,
   "metadata": {},
   "outputs": [
    {
     "name": "stderr",
     "output_type": "stream",
     "text": [
      "100%|██████████| 3/3 [14:36<00:00, 292.12s/it]\n"
     ]
    }
   ],
   "source": [
    "# for _time in tqdm([1 ,2 ,3 ,6 ,7,16]):\n",
    "for _time in tqdm([6 ,7,16]):    \n",
    "    for _rsquared in [0.99,0.95,0.9][::-1]:\n",
    "        for _numberofterms in (1,2,3,6,10):\n",
    "                        \n",
    "            try:                            \n",
    "                merged=allmerged.copy()\n",
    "                merged=merged[(merged.Rsquared.astype('float')>=_rsquared)]\n",
    "                merged=merged.reset_index(drop=True)\n",
    "\n",
    "                _res=computeAllNewRates(_time,_numberofterms)\n",
    "\n",
    "                _res=_res[(_res.d2ome_k.astype('float')>=0)]\n",
    "                _res=_res[(_res.new_k.astype('float')>=0)]\n",
    "\n",
    "                _path1=f\"Figures/{organ}/Day_{_time}/r2_{_rsquared}/numberofterms_{_numberofterms}/\"\n",
    "                _path2=f\"Figures/{organ}/Day_{_time}/r2_{_rsquared}/numberofterms_{_numberofterms}/subgroup/DenseRegion/\"\n",
    "                _path3=f\"Figures/{organ}/Day_{_time}/r2_{_rsquared}/numberofterms_{_numberofterms}/subgroup/10Percent_K_RD/\"\n",
    "                _paths=[_path1,_path2,_path3]\n",
    "                for _path in _paths:\n",
    "                    if not os.path.exists(_path): os.makedirs(_path)\n",
    "                    break\n",
    "\n",
    "                _title=f\"{organ}_day_{_time}_numberofterms_{_numberofterms}\"    \n",
    "\n",
    "\n",
    "                _res[\"i0_d2ome\"]=[_res.I0_asmp[i] + (_res.I0_0_exp[i] - _res.I0_asmp[i])*math.exp(-_res.d2ome_k[i]*_time) for i in range(_res.shape[0])]\n",
    "                _res[\"i0_new\"]=[_res.I0_asmp[i] + (_res.I0_0_exp[i] - _res.I0_asmp[i])*math.exp(-_res.new_k[i]*_time) for i in range(_res.shape[0])]\n",
    "\n",
    "                _res[\"fsr_d2ome\"]=[ (_res.I0_0_exp[i] - _res.i0_d2ome[i])/(_res.M0[i] - _res.I0_asmp[i])  for i in range(_res.shape[0]) ]\n",
    "                _res[\"fsr_new\"]=[ (_res.I0_0_exp[i] - _res.i0_new[i])/(_res.M0[i] - _res.I0_asmp[i])  for i in range(_res.shape[0]) ]\n",
    "                _res[\"fsr_exp\"]=[ (_res.I0_0_exp[i] - _res.i0_t_exp[i] )/(_res.M0[i] - _res.I0_asmp[i])  for i in range(_res.shape[0]) ]\n",
    "\n",
    "                _res['rd_fsr']= (_res.fsr_exp-_res.fsr_new)/_res.fsr_new\n",
    "\n",
    "\n",
    "                _res=_res[abs(_res['rd_fsr'] )<0.03]\n",
    "                _res=_res.reset_index(drop=True)\n",
    "\n",
    "\n",
    "                plt.scatter(_res.fsr_exp,_res.fsr_new,c='k',alpha=0.4)\n",
    "                plt.plot(_res.fsr_exp,_res.fsr_exp,c='r')\n",
    "                plt.xlabel('FSR (exp)')\n",
    "                plt.ylabel('FSR (approx.)')\n",
    "                plt.savefig(f\"{_path}/{_title}_fsr.jpeg\",dpi=900)\n",
    "                plt.show()\n",
    "\n",
    "                sns.histplot(_res['rd_fsr'] )\n",
    "                plt.xlabel(\"Relative Difference (FSR)\")\n",
    "\n",
    "\n",
    "                plot_hitmap(_res.d2ome_k,_res.new_k,_time,_path1,_title)\n",
    "\n",
    "                plotRateRDDensity(_res,_path1,_title)\n",
    "                clear_output(wait=True)  \n",
    "            except:\n",
    "                continue\n"
   ]
  },
  {
   "cell_type": "code",
   "execution_count": null,
   "metadata": {},
   "outputs": [],
   "source": []
  },
  {
   "cell_type": "code",
   "execution_count": 34,
   "metadata": {},
   "outputs": [],
   "source": [
    "\n",
    "# _time=1\n",
    "# _rsquared=0.95\n",
    "# _numberofterms=10\n",
    "\n",
    "# _path1=f\"Figures/{organ}/Day_{_time}/r2_{_rsquared}/numberofterms_{_numberofterms}/\"\n",
    "# _path2=f\"Figures/{organ}/Day_{_time}/r2_{_rsquared}/numberofterms_{_numberofterms}/subgroup/DenseRegion/\"\n",
    "# _path3=f\"Figures/{organ}/Day_{_time}/r2_{_rsquared}/numberofterms_{_numberofterms}/subgroup/10Percent_K_RD/\"\n",
    "# _paths=[_path1,_path2,_path3]\n",
    "# for _path in _paths:\n",
    "#     if not os.path.exists(_path): os.makedirs(_path)\n",
    "\n",
    "            \n",
    "# merged=allmerged.copy()\n",
    "# merged=merged[(merged.Rsquared.astype('float')>=_rsquared)]\n",
    "# merged=merged.reset_index(drop=True)\n",
    "\n",
    "# _res=computeAllNewRates(_time,_numberofterms)\n",
    "\n",
    "# _res=_res[(_res.d2ome_k.astype('float')>=0)]\n",
    "# _res=_res[(_res.new_k.astype('float')>=0)]\n",
    "\n",
    "# _path1=f\"Figures/{organ}/Day_{_time}/r2_{_rsquared}/numberofterms_{_numberofterms}/\"\n",
    "# _path2=f\"Figures/{organ}/Day_{_time}/r2_{_rsquared}/numberofterms_{_numberofterms}/subgroup/DenseRegion/\"\n",
    "# _path3=f\"Figures/{organ}/Day_{_time}/r2_{_rsquared}/numberofterms_{_numberofterms}/subgroup/10Percent_K_RD/\"\n",
    "# _paths=[_path1,_path2,_path3]\n",
    "# for _path in _paths:\n",
    "#     if not os.path.exists(_path): os.makedirs(_path)\n",
    "#     break\n",
    "\n",
    "# _title=f\"{organ}_day_{_time}_numberofterms_{_numberofterms}\"    \n",
    "\n",
    "\n",
    "# _res[\"i0_d2ome\"]=[_res.I0_asmp[i] + (_res.I0_0_exp[i] - _res.I0_asmp[i])*math.exp(-_res.d2ome_k[i]*_time) for i in range(_res.shape[0])]\n",
    "# _res[\"i0_new\"]=[_res.I0_asmp[i] + (_res.I0_0_exp[i] - _res.I0_asmp[i])*math.exp(-_res.new_k[i]*_time) for i in range(_res.shape[0])]\n",
    "\n",
    "# _res[\"fsr_d2ome\"]=[ (_res.I0_0_exp[i] - _res.i0_d2ome[i])/(_res.M0[i] - _res.I0_asmp[i])  for i in range(_res.shape[0]) ]\n",
    "# _res[\"fsr_new\"]=[ (_res.I0_0_exp[i] - _res.i0_new[i])/(_res.M0[i] - _res.I0_asmp[i])  for i in range(_res.shape[0]) ]\n",
    "# _res[\"fsr_exp\"]=[ (_res.I0_0_exp[i] - _res.i0_t_exp[i] )/(_res.M0[i] - _res.I0_asmp[i])  for i in range(_res.shape[0]) ]\n",
    "\n",
    "# _res['rd_fsr']= (_res.fsr_exp-_res.fsr_new)/_res.fsr_new\n",
    "\n",
    "\n",
    "# _res=_res[abs(_res['rd_fsr'] )<0.03]\n",
    "# _res=_res.reset_index(drop=True)\n",
    "\n",
    "\n",
    "# plt.scatter(_res.fsr_exp,_res.fsr_new,c='k',alpha=0.4)\n",
    "# plt.plot(_res.fsr_exp,_res.fsr_exp,c='r')\n",
    "# plt.xlabel('FSR (exp)')\n",
    "# plt.ylabel('FSR (approx.)')\n",
    "# plt.savefig(f\"{_path}/{_title}_fsr.jpeg\",dpi=900)\n",
    "# plt.show()\n",
    "\n",
    "# sns.histplot(_res['rd_fsr'] )\n",
    "# plt.xlabel(\"Relative Difference (FSR)\")\n",
    "\n",
    "\n",
    "# plot_hitmap(_res.d2ome_k,_res.new_k,_time,_path1,_title)\n",
    "\n",
    "# plotRateRDDensity(_res,_path1,_title)\n",
    "\n"
   ]
  },
  {
   "cell_type": "code",
   "execution_count": 35,
   "metadata": {},
   "outputs": [],
   "source": [
    "# temp=_res.sort_values(by='error')\n",
    "# temp=temp[temp.error<=0.2]\n",
    "# plot_hitmap(temp.d2ome_k,temp.new_k,_time,_path1,_title)"
   ]
  },
  {
   "cell_type": "code",
   "execution_count": null,
   "metadata": {},
   "outputs": [],
   "source": []
  },
  {
   "cell_type": "code",
   "execution_count": 36,
   "metadata": {},
   "outputs": [],
   "source": [
    "# _res.head(5)"
   ]
  },
  {
   "cell_type": "code",
   "execution_count": 37,
   "metadata": {},
   "outputs": [],
   "source": [
    "# _res[\"i0_d2ome\"]=[_res.I0_asmp[i] + (_res.I0_0_exp[i] - _res.I0_asmp[i])*math.exp(-_res.d2ome_k[i]*_time) for i in range(_res.shape[0])]\n",
    "# _res[\"i0_new\"]=[_res.I0_asmp[i] + (_res.I0_0_exp[i] - _res.I0_asmp[i])*math.exp(-_res.new_k[i]*_time) for i in range(_res.shape[0])]\n",
    "\n",
    "# _res[\"fsr_d2ome\"]=[ (_res.I0_0_exp[i] - _res.i0_d2ome[i])/(_res.M0[i] - _res.I0_asmp[i])  for i in range(_res.shape[0]) ]\n",
    "# _res[\"fsr_new\"]=[ (_res.I0_0_exp[i] - _res.i0_new[i])/(_res.M0[i] - _res.I0_asmp[i])  for i in range(_res.shape[0]) ]\n",
    "# _res[\"fsr_exp\"]=[ (_res.I0_0_exp[i] - _res.i0_t_exp[i] )/(_res.M0[i] - _res.I0_asmp[i])  for i in range(_res.shape[0]) ]\n",
    "\n",
    "# _res['rd_fsr']= (_res.fsr_exp-_res.fsr_new)/_res.fsr_new\n"
   ]
  },
  {
   "cell_type": "code",
   "execution_count": 38,
   "metadata": {},
   "outputs": [],
   "source": [
    "\n",
    "# _res=_res[abs(_res['rd_fsr'] )<0.03]\n",
    "# _res=_res.reset_index(drop=True)\n",
    "\n",
    "\n",
    "# # plt.scatter(_res.i0_t_exp,y)\n",
    "# # plt.plot(_res.i0_t_exp,_res.i0_t_exp,c='r')\n",
    "\n",
    "# # plt.scatter(_res.fsr_exp,_res.fsr_d2ome)\n",
    "# plt.scatter(_res.fsr_exp,_res.fsr_new,c='k',alpha=0.4)\n",
    "# plt.plot(_res.fsr_exp,_res.fsr_exp,c='r')\n",
    "# plt.xlabel('FSR (exp)')\n",
    "# plt.ylabel('FSR (approx.)')\n",
    "# plt.savefig(f\"{_path}/{_title}_fsr.jpeg\",dpi=900)\n",
    "# plt.show()\n",
    "\n",
    "# sns.histplot(_res['rd_fsr'] )\n",
    "# plt.xlabel(\"Relative Difference (FSR)\")\n",
    "\n",
    "\n",
    "# plot_hitmap(_res.d2ome_k,_res.new_k,_time,_path1,_title)\n",
    "\n",
    "# plotRateRDDensity(_res,_path1,_title)"
   ]
  },
  {
   "cell_type": "code",
   "execution_count": 39,
   "metadata": {},
   "outputs": [],
   "source": [
    "# plt.scatter(_res.d2ome_k,_res.new_k)"
   ]
  },
  {
   "cell_type": "code",
   "execution_count": 40,
   "metadata": {},
   "outputs": [],
   "source": [
    "# plt.plot(\n",
    "#     [-math.log(1-i) for i in ((_res.I0_0_exp - _res.i0_t_exp)/(_res.M0 - _res.I0_asmp))],\n",
    "#     [-math.log(1-i) for i in ((_res.I0_0_exp - _res.i0_t_exp)/(_res.M0 - _res.I0_asmp))]\n",
    "# )\n",
    "# plt.scatter(  \n",
    "#             [-math.log(1-i) for i in ((_res.I0_0_exp - _res.i0_t_exp)/(_res.M0 - _res.I0_asmp))],\n",
    "#             (_res.new_k*_time)\n",
    "#             )"
   ]
  },
  {
   "cell_type": "code",
   "execution_count": 41,
   "metadata": {},
   "outputs": [],
   "source": [
    "# plt.scatter( (_res.new_k*_time),((_res.I0_0_exp - _res.i0_t_exp)/(_res.M0 - _res.I0_asmp)) )"
   ]
  },
  {
   "cell_type": "code",
   "execution_count": 42,
   "metadata": {},
   "outputs": [],
   "source": [
    "# _res"
   ]
  },
  {
   "cell_type": "code",
   "execution_count": null,
   "metadata": {},
   "outputs": [],
   "source": []
  },
  {
   "cell_type": "code",
   "execution_count": null,
   "metadata": {},
   "outputs": [],
   "source": []
  }
 ],
 "metadata": {
  "kernelspec": {
   "display_name": "henock",
   "language": "python",
   "name": "python3"
  },
  "language_info": {
   "codemirror_mode": {
    "name": "ipython",
    "version": 3
   },
   "file_extension": ".py",
   "mimetype": "text/x-python",
   "name": "python",
   "nbconvert_exporter": "python",
   "pygments_lexer": "ipython3",
   "version": "3.12.4"
  }
 },
 "nbformat": 4,
 "nbformat_minor": 2
}
