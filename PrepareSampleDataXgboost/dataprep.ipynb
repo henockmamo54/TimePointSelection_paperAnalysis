{
 "cells": [
  {
   "cell_type": "code",
   "execution_count": 7,
   "metadata": {},
   "outputs": [],
   "source": [
    "import numpy as np\n",
    "import pandas as pd\n",
    "from matplotlib import pyplot as plt\n",
    "from scipy.stats import gaussian_kde\n",
    "import seaborn as sns\n",
    "import math\n",
    "from tqdm import tqdm"
   ]
  },
  {
   "cell_type": "code",
   "execution_count": 8,
   "metadata": {},
   "outputs": [],
   "source": [
    "def getpath(organ,_time,_rsquared,_numberofterms):\n",
    "    path= f\"../RateComparision4/Figures/{organ}/Day_{_time}/r2_{_rsquared}/numberofterms_{_numberofterms}/\" \n",
    "    title=f\"{organ}_day_{_time}_numberofterms_{_numberofterms}.csv\"   \n",
    "    return path+title"
   ]
  },
  {
   "cell_type": "code",
   "execution_count": 33,
   "metadata": {},
   "outputs": [
    {
     "name": "stderr",
     "output_type": "stream",
     "text": [
      "  0%|          | 0/2 [00:00<?, ?it/s]"
     ]
    },
    {
     "name": "stderr",
     "output_type": "stream",
     "text": [
      "100%|██████████| 7/7 [00:04<00:00,  1.41it/s]\n",
      "100%|██████████| 7/7 [00:06<00:00,  1.01it/s]\n",
      "100%|██████████| 2/2 [00:11<00:00,  5.95s/it]\n"
     ]
    }
   ],
   "source": [
    "all_data_train=pd.DataFrame()\n",
    "\n",
    "for _organ in tqdm(['liver','muscle']):\n",
    "    for _time in tqdm([1 ,2 ,3 ,6 ,7,13,16]):\n",
    "        for _rsquared in [0.99,0.95,0.9][::-1]:\n",
    "            for _numberofterms in (1,2,3,6,10):\n",
    "                data=pd.read_csv(getpath(_organ,_time,_rsquared,_numberofterms))\n",
    "                data['numberofterms']=_numberofterms\n",
    "                data['time']=_time\n",
    "                all_data_train=pd.concat([all_data_train,data])"
   ]
  },
  {
   "cell_type": "code",
   "execution_count": 34,
   "metadata": {},
   "outputs": [
    {
     "name": "stderr",
     "output_type": "stream",
     "text": [
      "  0%|          | 0/2 [00:00<?, ?it/s]"
     ]
    },
    {
     "name": "stderr",
     "output_type": "stream",
     "text": [
      "100%|██████████| 7/7 [00:04<00:00,  1.61it/s]\n",
      "100%|██████████| 7/7 [00:06<00:00,  1.10it/s]\n",
      "100%|██████████| 2/2 [00:10<00:00,  5.37s/it]\n"
     ]
    }
   ],
   "source": [
    "all_data_test=pd.DataFrame()\n",
    "\n",
    "for _organ in tqdm(['kidney','heart']):\n",
    "    for _time in tqdm([1 ,2 ,3 ,6 ,7,13,16]):\n",
    "        for _rsquared in [0.99,0.95,0.9][::-1]:\n",
    "            for _numberofterms in (1,2,3,6,10):\n",
    "                data=pd.read_csv(getpath(_organ,_time,_rsquared,_numberofterms))\n",
    "                data['numberofterms']=_numberofterms\n",
    "                data['time']=_time\n",
    "                all_data_test=pd.concat([all_data_test,data])"
   ]
  },
  {
   "cell_type": "code",
   "execution_count": 35,
   "metadata": {},
   "outputs": [],
   "source": [
    "all_data_train.to_csv(\"all_data_train.csv\",index=False)\n",
    "all_data_test.to_csv(\"all_data_test.csv\",index=False)\n"
   ]
  },
  {
   "cell_type": "code",
   "execution_count": null,
   "metadata": {},
   "outputs": [],
   "source": []
  },
  {
   "cell_type": "code",
   "execution_count": null,
   "metadata": {},
   "outputs": [],
   "source": []
  }
 ],
 "metadata": {
  "kernelspec": {
   "display_name": "henock",
   "language": "python",
   "name": "python3"
  },
  "language_info": {
   "codemirror_mode": {
    "name": "ipython",
    "version": 3
   },
   "file_extension": ".py",
   "mimetype": "text/x-python",
   "name": "python",
   "nbconvert_exporter": "python",
   "pygments_lexer": "ipython3",
   "version": "3.12.4"
  }
 },
 "nbformat": 4,
 "nbformat_minor": 2
}
